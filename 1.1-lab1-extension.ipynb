{
 "cells": [
  {
   "cell_type": "markdown",
   "metadata": {},
   "source": [
    "# Lab 1 - extension\n",
    "\n",
    "This notebook delves deeper into some of the ideas explored in the first lab:\n",
    "1. Derivation of functions\n",
    "2. Weight vs epoch\n",
    "3. Error vs epoch\n",
    "4. Error vs learning rate\n",
    "5. Extra notes on XOR from Petro\n",
    "\n",
    "First we import all the code from the lab"
   ]
  },
  {
   "cell_type": "code",
   "execution_count": 1,
   "metadata": {},
   "outputs": [],
   "source": [
    "import numpy as np\n",
    "import matplotlib.pyplot as plt\n",
    "\n",
    "W = np.random.randn(1, 2)\n",
    "B = np.random.randn(1)\n",
    "\n",
    "def sigm(X, W, B):\n",
    "    M = 1/(1+np.exp(-(X.dot(W.T)+B)))\n",
    "    return M\n",
    "\n",
    "def diff_W(X, Z, Y, B, W):\n",
    "\n",
    "    dS = sigm(X, W, B)*(1-sigm(X, W, B)) # differentiating sigm function\n",
    "    dW = (Y-Z)*dS\n",
    "\n",
    "    return X.T.dot(dW) # dot product between X transpose and dW\n",
    "\n",
    "def diff_B(X, Z, Y, B, W):\n",
    "\n",
    "    dS = sigm(X, W, B)*(1-sigm(X, W, B))\n",
    "    dB = (Y-Z)*dS\n",
    "\n",
    "    return dB.sum(axis=0)\n",
    "\n",
    "X = np.random.randint(2, size=[15, 2]) # produces an array size [15, 2] containing either 0 or 1\n",
    "Y = np.array(X[:,0] | X[:,1] ).T\n",
    "\n",
    "X_Test = np.random.randint(2, size=[15, 2])\n",
    "Y_Test = np.array(X[:,0] | X[:,1] ).T\n"
   ]
  },
  {
   "cell_type": "markdown",
   "metadata": {},
   "source": [
    "### Derivation of functions\n",
    "\n",
    "Derive an analytical expressionn for the error function. In this lab, the squared error function is used as the error function.\n",
    "\n",
    "This is used to make use of gradient descent in order to update the weights."
   ]
  },
  {
   "cell_type": "code",
   "execution_count": 2,
   "metadata": {},
   "outputs": [],
   "source": [
    "# insert image of derivation here"
   ]
  },
  {
   "cell_type": "markdown",
   "metadata": {},
   "source": [
    "### Weight vs epoch\n",
    "\n",
    "The closer epoch gets to 500, the smaller W is. This depends on the problem since W is being trained depending on the dataset."
   ]
  },
  {
   "cell_type": "markdown",
   "metadata": {},
   "source": [
    "### Error vs epoch"
   ]
  },
  {
   "cell_type": "code",
   "execution_count": 14,
   "metadata": {},
   "outputs": [
    {
     "data": {
      "text/plain": [
       "Text(0.5, 1.0, 'Error vs epoch')"
      ]
     },
     "execution_count": 14,
     "metadata": {},
     "output_type": "execute_result"
    },
    {
     "data": {
      "image/png": "[encoded data removed]",
      "text/plain": [
       "<Figure size 432x288 with 1 Axes>"
      ]
     },
     "metadata": {
      "needs_background": "light"
     },
     "output_type": "display_data"
    }
   ],
   "source": [
    "learning_rate = 0.1\n",
    "\n",
    "x_plot = []\n",
    "y_plot = []\n",
    "\n",
    "for epoch in range(500):\n",
    "    output = sigm(X, W, B)\n",
    "    # diff_W size = (2, 15) ( .T = (15, 2) )\n",
    "    # diff_B size = (15,)\n",
    "    # W size = (1, 2)\n",
    "    # output size = (15, 15) --> WHY IS THE OUTPUT THIS SIZE\n",
    "    # Y size = (15,)\n",
    "\n",
    "    W = W + (learning_rate * diff_W(X, output, Y, B, W).T)\n",
    "    B = B + learning_rate * diff_B(X, output, Y, B, W)\n",
    "\n",
    "    error = (Y - output)**2\n",
    "    \n",
    "    x_plot.append(epoch)\n",
    "    y_plot.append(error[-1, -1]) # plotting the final error value for the final output\n",
    "\n",
    "plt.plot(x_plot, y_plot)\n",
    "plt.xlabel(\"epoch\")\n",
    "plt.ylabel(\"Error value\")\n",
    "plt.title(\"Error vs epoch\")"
   ]
  },
  {
   "cell_type": "markdown",
   "metadata": {},
   "source": [
    "**How the error changes with each iteration** </br>\n",
    "The closer epoch gets to 500, the smaller the error is. This reduces linearly which can be seen in the graph:\n",
    "- The plot shows no oscillations which suggests that the learning rate is not too large. When the learning rate was set to 100, the graph looked like the positive quadrant of a 1/x graph.\n",
    "- The gradient can give us the learning rate.\n",
    "\n",
    "**Increasing the number of iterations** </br>\n",
    "The number of iterations was set to 1000, then 2000, then 40000 and finally 8000. In each case, the final error value got smaller, however, it never reached zero. When epoch = 8000, the final error value was 0.00011786992787626743. \n",
    "\n",
    "**Does the error go to zero? Why not? What could we do to make it exactly zero?**\n",
    "Because the sigmoid is never actually 0 or 1! We do not want to use a perfect step function because it is non-differentiable and non-generalisable. \n",
    "\n",
    "For the error to go to zero, the output of the neuron must equal the correct output exactly. \n",
    "\n",
    "Whilst increasing the learning rate reduces the error, it will never reach zero. This is because we can't approximate the function exactly, it can never be an exact step function between 0 and 1.\n",
    "\n",
    "Source: https://machinelearningmastery.com/learning-rate-for-deep-learning-neural-networks/ \n",
    "\n",
    "**Error vs epoch graph**\n",
    "My plot shows a low learning rate.\n",
    "\n",
    "For reference: </br>\n",
    "![error vs epoch](images/epoch_learningrate.png)</br>\n",
    "Source: https://towardsdatascience.com/understanding-learning-rates-and-how-it-improves-performance-in-deep-learning-d0d4059c1c10\n",
    "\n",
    "**Alternative methods to find the learning rate**\n",
    "*Triangular method*\n",
    "This method involves restarting the learning rate to the first value after so many iterations.\n"
   ]
  },
  {
   "cell_type": "markdown",
   "metadata": {},
   "source": [
    "### Error vs learning rate"
   ]
  },
  {
   "cell_type": "code",
   "execution_count": 13,
   "metadata": {},
   "outputs": [
    {
     "data": {
      "text/plain": [
       "Text(0, 0.5, 'Error value')"
      ]
     },
     "execution_count": 13,
     "metadata": {},
     "output_type": "execute_result"
    },
    {
     "data": {
      "image/png": "[encoded data removed]",
      "text/plain": [
       "<Figure size 432x288 with 1 Axes>"
      ]
     },
     "metadata": {
      "needs_background": "light"
     },
     "output_type": "display_data"
    }
   ],
   "source": [
    "lrates = [0.1, 10e-3, 10e-4 , 10e-5] # this shows a flat line\n",
    "\n",
    "y_plot = []\n",
    "\n",
    "for i in lrates:\n",
    "\n",
    "    for epoch in range(500):\n",
    "        output = sigm(X, W, B)\n",
    "\n",
    "        W = W + (i * diff_W(X, output, Y, B, W).T)\n",
    "        B = B + i * diff_B(X, output, Y, B, W)\n",
    "\n",
    "        error = (Y - output)**2\n",
    "        \n",
    "    y_plot.append(error[-1, -1]) # plotting the final error value for the final output\n",
    "\n",
    "plt.figure(2)\n",
    "plt.plot(lrates, y_plot)\n",
    "plt.title(\"Sensitivity analysis\")\n",
    "plt.xlabel(\"Learning rate\")\n",
    "plt.ylabel(\"Error value\")"
   ]
  },
  {
   "cell_type": "markdown",
   "metadata": {},
   "source": [
    "**Error vs learning rate graph**\n",
    "By reducing the learning rate to 10e-10, we reach a constant error shown by the flat line. This is most likely because the learning rate is so low that it never converges? Ideally, the error vs learning rate graph should look as follows:\n",
    "\n",
    "![error vs epoch](images\\loss_learningrate.png)</br>\n",
    "Source: https://towardsdatascience.com/understanding-learning-rates-and-how-it-improves-performance-in-deep-learning-d0d4059c1c10 </br>\n",
    "\n",
    "The number of epochs has been increased to account for the reduction in learning rate."
   ]
  },
  {
   "cell_type": "markdown",
   "metadata": {},
   "source": [
    "### More notes on XOR"
   ]
  },
  {
   "cell_type": "markdown",
   "metadata": {},
   "source": [
    "<img src=\".\\images\\lab2 (2).png\" width=\"400\"> <img src=\".\\images\\lab2 (3).png\" width=\"400\"> </br>\n",
    "\n",
    "The image on the left shows what a neuron is doing:\n",
    "- The linear transform (Wx + b) describe the line that separates the points.\n",
    "- We apply this linear transform to a single point (ie sub x into Wx + b).\n",
    "- The linearly transformed point is inputted to the activation function.\n",
    "- This outputs a value that is roughly either 1 or 0. \n",
    "    - (Although the output depends on the activation function, can also be -1 or 1).\n",
    "\n",
    "The image on the right shows this too:\n",
    "- _s_ is the function of this linear transform\n",
    "- Each input is multiplied by a unique weight, therefore, _s_ is a sum of all the inputs.\n",
    "    - If this isn't the first layer, the inputs will be all the neurons from the previous layer, which will be multiplied by their individual weights and summed.\n",
    "- We adjust W and B until most of the points are classified."
   ]
  }
 ],
 "metadata": {
  "interpreter": {
   "hash": "722b4b02d138d58aa8961ff92d9e7c8e4a79554b31fe8e4fa1dd8a0b77649e58"
  },
  "kernelspec": {
   "display_name": "Python 3.9.6 64-bit",
   "language": "python",
   "name": "python3"
  },
  "language_info": {
   "codemirror_mode": {
    "name": "ipython",
    "version": 3
   },
   "file_extension": ".py",
   "mimetype": "text/x-python",
   "name": "python",
   "nbconvert_exporter": "python",
   "pygments_lexer": "ipython3",
   "version": "3.8.3"
  },
  "orig_nbformat": 4
 },
 "nbformat": 4,
 "nbformat_minor": 2
}
