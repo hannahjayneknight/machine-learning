{
 "cells": [
  {
   "cell_type": "markdown",
   "metadata": {},
   "source": [
    "# Lab 4\n",
    "\n",
    "### Objectives\n",
    "\n",
    "1. Write a convolutional neural network for the MNIST Database\n",
    "\n",
    "In this lab, convolutional layers are used.\n",
    "\n",
    "The network looks as follows:</br>\n",
    "<img src=\".\\i\\lab4-network.png\" width=\"400\"> </br>\n",
    "\n",
    "- Activation function for each layer is the recitifed linear function (ReLu)\n",
    "- Pooling layer Mp takes the maximum value of a patch of the image.\n",
    "- The output layer is made of softmax functions"
   ]
  },
  {
   "cell_type": "code",
   "execution_count": 2,
   "metadata": {},
   "outputs": [],
   "source": [
    "# copying code from lab 3 \n",
    "import torch\n",
    "from torchvision import transforms, datasets\n",
    "import torch.nn as nn \n",
    "import torch.nn.functional as F \n",
    "import torch.optim as optim\n",
    "\n",
    "train = datasets.MNIST(\n",
    "    \"\", \n",
    "    train=True, \n",
    "    download=True, \n",
    "    transform=transforms.Compose([transforms.ToTensor()]))\n",
    "test = datasets.MNIST(\"\", train=False, download=True, transform=transforms.Compose([transforms.ToTensor()]))\n",
    "\n",
    "trainset = torch.utils.data.DataLoader(train, batch_size=10, shuffle=True)\n",
    "testset = torch.utils.data.DataLoader(test, batch_size=10, shuffle=True)"
   ]
  },
  {
   "cell_type": "code",
   "execution_count": null,
   "metadata": {},
   "outputs": [],
   "source": [
    "# changing Net class\n",
    "class Net(nn.Module):\n",
    "    def __init__(self):\n",
    "        super().__init__()\n",
    "        "
   ]
  }
 ],
 "metadata": {
  "interpreter": {
   "hash": "f9ec054b59268ae76760b157b3eba00de255c2d102e132ab4e8bc4a94d89a299"
  },
  "kernelspec": {
   "display_name": "Python 3.7.11 ('pytorch_p37')",
   "language": "python",
   "name": "python3"
  },
  "language_info": {
   "codemirror_mode": {
    "name": "ipython",
    "version": 3
   },
   "file_extension": ".py",
   "mimetype": "text/x-python",
   "name": "python",
   "nbconvert_exporter": "python",
   "pygments_lexer": "ipython3",
   "version": "3.7.11"
  },
  "orig_nbformat": 4
 },
 "nbformat": 4,
 "nbformat_minor": 2
}
