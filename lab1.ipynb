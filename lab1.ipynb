{
 "cells": [
  {
   "cell_type": "markdown",
   "metadata": {},
   "source": [
    "# Lab 1"
   ]
  },
  {
   "cell_type": "markdown",
   "metadata": {},
   "source": [
    "### Objectives\n",
    "\n",
    "1. Understand and code a simple neuron\n",
    "2. Understand how a neuron learns\n",
    "3. Understand its limitations"
   ]
  },
  {
   "cell_type": "code",
   "execution_count": 1,
   "metadata": {},
   "outputs": [],
   "source": [
    "import numpy as np\n",
    "import matplotlib.pyplot as plt"
   ]
  },
  {
   "cell_type": "markdown",
   "metadata": {},
   "source": [
    "Setting a random initial weights and bias."
   ]
  },
  {
   "cell_type": "code",
   "execution_count": 2,
   "metadata": {},
   "outputs": [
    {
     "name": "stdout",
     "output_type": "stream",
     "text": [
      "Weights:  [[-1.23103507 -1.89189612]]\n",
      "Bias:  [0.68579914]\n"
     ]
    }
   ],
   "source": [
    "W = np.random.randn(1, 2)\n",
    "B = np.random.randn(1)\n",
    "\n",
    "print(\"Weights: \", W)\n",
    "print(\"Bias: \", B)"
   ]
  },
  {
   "cell_type": "markdown",
   "metadata": {},
   "source": [
    "This is our activation function. We are using a sigmoid function. You can choose the function (e.g. could be a step function, tanh etc). Source: https://towardsdatascience.com/statistics-is-freaking-hard-wtf-is-activation-function-df8342cdf292\n",
    "\n",
    "This takes in the inputs (X), weights (W) and bias (B). For an input, X, of length _n_ the output is size _(n, n)_."
   ]
  },
  {
   "cell_type": "code",
   "execution_count": 3,
   "metadata": {},
   "outputs": [],
   "source": [
    "def sigm(X, W, B):\n",
    "    M = 1/(1+np.exp(-(X.dot(W.T)+B)))\n",
    "    return M"
   ]
  },
  {
   "cell_type": "markdown",
   "metadata": {},
   "source": [
    "### Derivation of functions\n",
    "\n",
    "Derive an analytical expressionn for the error function. In this lab, the squared error function is used as the error function.\n",
    "\n",
    "This is used to make use of gradient descent in order to update the weights."
   ]
  },
  {
   "cell_type": "code",
   "execution_count": 4,
   "metadata": {},
   "outputs": [],
   "source": [
    "# insert image of derivation here"
   ]
  },
  {
   "cell_type": "markdown",
   "metadata": {},
   "source": [
    "### Putting this into code\n",
    "Uptating rules for weights and bias."
   ]
  },
  {
   "cell_type": "code",
   "execution_count": 5,
   "metadata": {},
   "outputs": [],
   "source": [
    "def diff_W(X, Z, Y, B, W):\n",
    "\n",
    "    dS = sigm(X, W, B)*(1-sigm(X, W, B)) # differentiating sigm function\n",
    "    dW = (Y-Z)*dS\n",
    "\n",
    "    return X.T.dot(dW) # dot product between X transpose and dW\n",
    "\n",
    "def diff_B(X, Z, Y, B, W):\n",
    "\n",
    "    dS = sigm(X, W, B)*(1-sigm(X, W, B))\n",
    "    dB = (Y-Z)*dS\n",
    "\n",
    "    return dB.sum(axis=0)\n"
   ]
  },
  {
   "cell_type": "markdown",
   "metadata": {},
   "source": [
    "Creating 15 two-dimensional samples as input e.g., [0, 1]. We apply the bitwise OR operator (|) to find the outputs and split into training and testing."
   ]
  },
  {
   "cell_type": "code",
   "execution_count": 40,
   "metadata": {},
   "outputs": [],
   "source": [
    "X = np.random.randint(2, size=[15, 2])\n",
    "Y = np.array(X[:,0] | X[:,1] ).T\n",
    "\n",
    "X_Test = np.random.randint(2, size=[15, 2])\n",
    "Y_Test = np.array(X[:,0] | X[:,1] ).T"
   ]
  },
  {
   "cell_type": "markdown",
   "metadata": {},
   "source": [
    "### Teaching the neuron to emulate the OR function.\n",
    "\n",
    "NB: There was an error when += was used. While the arrays are broadcastable, numpy does not like trying to assign the larger array to the shape of the smaller array.\n",
    "\n",
    "Broadcasting = When a smaller array is “broadcast” across the larger array so that they have compatible shapes. Broadcasting provides a means of vectorizing array operations so that looping occurs in C instead of Python. It does this without making needless copies of data and usually leads to efficient algorithm implementations.\n",
    "\n",
    "Sources:\n",
    "- https://numpy.org/doc/stable/user/basics.broadcasting.html\n",
    "- https://stackoverflow.com/questions/47493559/valueerror-non-broadcastable-output-operand-with-shape-3-1-doesnt-match-the \n",
    "\n",
    "Note each epoch of the variable 'error' is a (15, 15) array. This is because 'output' is a (15, 15) array."
   ]
  },
  {
   "cell_type": "code",
   "execution_count": 50,
   "metadata": {},
   "outputs": [
    {
     "data": {
      "text/plain": [
       "Text(0.5, 1.0, 'Error vs epoch')"
      ]
     },
     "execution_count": 50,
     "metadata": {},
     "output_type": "execute_result"
    },
    {
     "data": {
      "image/png": "[encoded data removed]",
      "text/plain": [
       "<Figure size 432x288 with 1 Axes>"
      ]
     },
     "metadata": {
      "needs_background": "light"
     },
     "output_type": "display_data"
    }
   ],
   "source": [
    "learning_rate = 0.1\n",
    "\n",
    "x_plot = []\n",
    "y_plot = []\n",
    "\n",
    "for epoch in range(500):\n",
    "    output = sigm(X, W, B)\n",
    "    # diff_W size = (2, 15) ( .T = (15, 2) )\n",
    "    # diff_B size = (15,)\n",
    "    # W size = (1, 2)\n",
    "    # output size = (15, 15) --> WHY IS THE OUTPUT THIS SIZE\n",
    "    # Y size = (15,)\n",
    "\n",
    "    W = W + (learning_rate * diff_W(X, output, Y, B, W).T)\n",
    "    B = B + learning_rate * diff_B(X, output, Y, B, W)\n",
    "\n",
    "    error = (Y - output)**2\n",
    "    \n",
    "    x_plot.append(epoch)\n",
    "    y_plot.append(error[-1, -1]) # plotting the final error value for the final output\n",
    "\n",
    "plt.plot(x_plot, y_plot)\n",
    "plt.xlabel(\"epoch\")\n",
    "plt.ylabel(\"Error value\")\n",
    "plt.title(\"Error vs epoch\")"
   ]
  },
  {
   "cell_type": "markdown",
   "metadata": {},
   "source": [
    "**How W changes with each iteration** </br>\n",
    "The closer epoch gets to 500, the smaller W is.\n",
    "\n",
    "**How the error changes with each iteration** </br>\n",
    "The closer epoch gets to 500, the smaller the error is. This reduces linearly which can be seen in the graph:\n",
    "- The plot shows no oscillations which suggests that the learning rate is not too large. When the learning rate was set to 100, the graph looked like the positive quadrant of a 1/x graph.\n",
    "- The gradient can give us the learning rate.\n",
    "\n",
    "**Increasing the number of iterations** </br>\n",
    "The number of iterations was set to 1000, then 2000, then 40000 and finally 8000. In each case, the final error value got smaller, however, it never reached zero. When epoch = 8000, the final error value was 0.00011786992787626743. \n",
    "\n",
    "**Does the error go to zero? Why not? What could we do to make it exactly zero?**\n",
    "For the error to go to zero, the output of the neuron must equal the correct output exactly. \n",
    "\n",
    "Whilst increasing the learning rate reduces the error, it will never reach zero. This is because we can't approximate the function exactly, it can never be an exact step function between 0 and 1.\n",
    "\n",
    "Source: https://machinelearningmastery.com/learning-rate-for-deep-learning-neural-networks/ \n",
    "\n",
    "**Error vs epoch graph**\n",
    "My plot shows a low learning rate.\n",
    "\n",
    "For reference: </br>\n",
    "![error vs epoch](epoch_learningrate.png)</br>\n",
    "Source: https://towardsdatascience.com/understanding-learning-rates-and-how-it-improves-performance-in-deep-learning-d0d4059c1c10\n",
    "\n",
    "**ALTERNATIVE METHODS TO FIND THE LEARNING RATE**\n",
    "*Triangular method*\n",
    "This method involves restarting the learning rate to the first value after so many iterations.\n"
   ]
  },
  {
   "cell_type": "code",
   "execution_count": 109,
   "metadata": {},
   "outputs": [
    {
     "data": {
      "text/plain": [
       "Text(0, 0.5, 'Error value')"
      ]
     },
     "execution_count": 109,
     "metadata": {},
     "output_type": "execute_result"
    },
    {
     "data": {
      "image/png": "[encoded data removed]",
      "text/plain": [
       "<Figure size 432x288 with 1 Axes>"
      ]
     },
     "metadata": {
      "needs_background": "light"
     },
     "output_type": "display_data"
    }
   ],
   "source": [
    "# changing the learning rate\n",
    "\n",
    "lrates = [0.1, 10e-3, 10e-4 , 10e-5] # this shows linear, increasing line\n",
    "#lrates = [10e-10, 10e-20, 10e-30] # this shows a flat line\n",
    "\n",
    "y_plot = []\n",
    "\n",
    "for i in lrates:\n",
    "\n",
    "    for epoch in range(10000):\n",
    "        output = sigm(X, W, B)\n",
    "\n",
    "        W = W + (i * diff_W(X, output, Y, B, W).T)\n",
    "        B = B + i * diff_B(X, output, Y, B, W)\n",
    "\n",
    "        error = (Y - output)**2\n",
    "        \n",
    "    y_plot.append(error[-1, -1]) # plotting the final error value for the final output\n",
    "\n",
    "plt.figure(2)\n",
    "plt.plot(lrates, y_plot)\n",
    "#plt.axes([0, 10e-30, 8, 8.1])\n",
    "plt.title(\"Sensitivity analysis\")\n",
    "plt.xlabel(\"Learning rate\")\n",
    "plt.ylabel(\"Error value\")"
   ]
  },
  {
   "cell_type": "markdown",
   "metadata": {},
   "source": [
    "**Error vs learning rate graph**\n",
    "By reducing the learning rate to 10e-10, we reach a constant error shown by the flat line. This is most likely because the learning rate is so low that it never converges? Ideally, the error vs learning rate graph should look as follows:\n",
    "\n",
    "![error vs epoch](loss_learningrate.png)</br>\n",
    "Source: https://towardsdatascience.com/understanding-learning-rates-and-how-it-improves-performance-in-deep-learning-d0d4059c1c10 </br>\n",
    "\n",
    "The number of epochs has been increased to account for the reduction in learning rate."
   ]
  },
  {
   "cell_type": "code",
   "execution_count": 1,
   "metadata": {},
   "outputs": [
    {
     "data": {
      "text/plain": [
       "False"
      ]
     },
     "execution_count": 1,
     "metadata": {},
     "output_type": "execute_result"
    }
   ],
   "source": [
    "# To look into next time: https://pytorch-lightning.readthedocs.io/en/stable/advanced/lr_finder.html\n",
    "# Using inbuilt tools in PyTorch to find the learning rate\n",
    "# import torch"
   ]
  },
  {
   "cell_type": "markdown",
   "metadata": {},
   "source": [
    "### Repeating for the AND operator (=&)."
   ]
  },
  {
   "cell_type": "code",
   "execution_count": 41,
   "metadata": {},
   "outputs": [],
   "source": [
    "X = np.random.randint(2, size=[15, 2])\n",
    "Y = np.array(X[:,0] & X[:,1] ).T\n",
    "\n",
    "X_Test = np.random.randint(2, size=[15, 2])\n",
    "Y_Test = np.array(X[:,0] & X[:,1] ).T\n",
    "\n",
    "learning_rate = 0.01\n",
    "\n",
    "for epoch in range(500):\n",
    "    output = sigm(X, W, B)\n",
    "\n",
    "    W = W + (learning_rate * diff_W(X, output, Y, B, W).T)\n",
    "    B = B + (learning_rate * diff_B(X, output, Y, B, W))\n",
    "    \n",
    "    # looking at the first output and error at each iteration\n",
    "    error = (Y - output)**2\n",
    "    #print(\"W: \", W[1, 1])\n",
    "    #print(\"Error: \", error[1, 1])"
   ]
  },
  {
   "cell_type": "markdown",
   "metadata": {},
   "source": [
    "**General comments**\n",
    "The results from logical AND is very similar to logical OR."
   ]
  },
  {
   "cell_type": "markdown",
   "metadata": {},
   "source": [
    "### Repeating for the XOR operator (=^)."
   ]
  },
  {
   "cell_type": "code",
   "execution_count": 42,
   "metadata": {},
   "outputs": [],
   "source": [
    "X = np.random.randint(2, size=[15, 2])\n",
    "Y = np.array(X[:,0] ^ X[:,1] ).T\n",
    "\n",
    "X_Test = np.random.randint(2, size=[15, 2])\n",
    "Y_Test = np.array(X[:,0] ^ X[:,1] ).T\n",
    "\n",
    "learning_rate = 100\n",
    "\n",
    "for epoch in range(500):\n",
    "    output = sigm(X, W, B)\n",
    "\n",
    "    W += learning_rate * diff_W(X, output, Y, B, W).T\n",
    "    B += learning_rate * diff_B(X, output, Y, B, W)\n",
    "\n",
    "    # looking at the first output and error at each iteration\n",
    "    error = (Y - output)**2\n",
    "    #print(\"W: \", W[1, 1])\n",
    "    #print(\"Error: \", error[1, 1])"
   ]
  },
  {
   "cell_type": "markdown",
   "metadata": {},
   "source": [
    "**Are we able to reproduce the XOR? Can you explain these results?**</br>\n",
    "The learning rate has to be very high (10s of order of magnitude) to achieve similar results to the logical AND/ OR. </br></br>\n",
    "\n",
    "The outputs of AND and OR gates are easily separable using a single line. A XOR gate needs two lines which can be achieved with a second layer of neuron/s.</br></br>\n",
    "\n",
    "![Two lines for XOR](XOR.gif)\n",
    "\n",
    "Source: https://www.quora.com/Why-cant-we-make-an-XOR-gate-with-1-neuron </br></br>\n",
    "\n",
    "It is possible to make an artificial neural network for XOR, although results can be unreliable. See how: https://www.quora.com/How-do-I-code-XOR-gate-in-artificial-neural-network#:~:text=NOTE%3A%20If%20you%20are%20using,be%20quite%20tricky%20and%20unreliable. </br></br>\n",
    "\n",
    "\n",
    "**If you really wanted to solve the XOR just using one neuron, can you think of any solutions that we could apply?**</br>\n",
    "Have a high learning rate... ?(check this)"
   ]
  }
 ],
 "metadata": {
  "interpreter": {
   "hash": "722b4b02d138d58aa8961ff92d9e7c8e4a79554b31fe8e4fa1dd8a0b77649e58"
  },
  "kernelspec": {
   "display_name": "Python 3.9.6 64-bit",
   "language": "python",
   "name": "python3"
  },
  "language_info": {
   "codemirror_mode": {
    "name": "ipython",
    "version": 3
   },
   "file_extension": ".py",
   "mimetype": "text/x-python",
   "name": "python",
   "nbconvert_exporter": "python",
   "pygments_lexer": "ipython3",
   "version": "3.7.11"
  },
  "orig_nbformat": 4
 },
 "nbformat": 4,
 "nbformat_minor": 2
}
